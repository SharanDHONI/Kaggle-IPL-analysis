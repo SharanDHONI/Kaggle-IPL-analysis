{
 "cells": [
  {
   "cell_type": "code",
   "execution_count": 3,
   "id": "dc28e77c",
   "metadata": {},
   "outputs": [],
   "source": [
    "import pandas as pd\n",
    "import numpy as np\n",
    "import seaborn as sns\n",
    "import matplotlib.pyplot as plt"
   ]
  },
  {
   "cell_type": "code",
   "execution_count": 4,
   "id": "fac9f990",
   "metadata": {},
   "outputs": [
    {
     "name": "stdout",
     "output_type": "stream",
     "text": [
      "'Best Bowling Economy Innings'\t    'Most Fours Innings'\r\n",
      "'Best Bowling Strike Rate Innings'  'Most Runs'\r\n",
      "'Fastest Centuries'\t\t    'Most Runs Conceded Innings'\r\n",
      "'Fastest Fifties'\t\t    'Most Runs Over'\r\n",
      "'IPL Anaysis.ipynb'\t\t    'Most Sixes Innings'\r\n",
      "'Most Dot Balls Innings'\t    'Most Wickets'\r\n"
     ]
    }
   ],
   "source": [
    "!ls"
   ]
  },
  {
   "cell_type": "code",
   "execution_count": null,
   "id": "c9cae949",
   "metadata": {},
   "outputs": [],
   "source": []
  },
  {
   "cell_type": "code",
   "execution_count": 5,
   "id": "75fda663",
   "metadata": {},
   "outputs": [],
   "source": [
    "most_runs_2021 = pd.read_csv('./Most Runs/Most Runs - 2021.csv')"
   ]
  },
  {
   "cell_type": "code",
   "execution_count": 6,
   "id": "5e1fbf67",
   "metadata": {},
   "outputs": [
    {
     "data": {
      "text/html": [
       "<div>\n",
       "<style scoped>\n",
       "    .dataframe tbody tr th:only-of-type {\n",
       "        vertical-align: middle;\n",
       "    }\n",
       "\n",
       "    .dataframe tbody tr th {\n",
       "        vertical-align: top;\n",
       "    }\n",
       "\n",
       "    .dataframe thead th {\n",
       "        text-align: right;\n",
       "    }\n",
       "</style>\n",
       "<table border=\"1\" class=\"dataframe\">\n",
       "  <thead>\n",
       "    <tr style=\"text-align: right;\">\n",
       "      <th></th>\n",
       "      <th>POS</th>\n",
       "      <th>Player</th>\n",
       "      <th>Mat</th>\n",
       "      <th>Inns</th>\n",
       "      <th>NO</th>\n",
       "      <th>Runs</th>\n",
       "      <th>HS</th>\n",
       "      <th>Avg</th>\n",
       "      <th>BF</th>\n",
       "      <th>SR</th>\n",
       "      <th>100</th>\n",
       "      <th>50</th>\n",
       "      <th>4s</th>\n",
       "      <th>6s</th>\n",
       "    </tr>\n",
       "  </thead>\n",
       "  <tbody>\n",
       "    <tr>\n",
       "      <th>0</th>\n",
       "      <td>1</td>\n",
       "      <td>Ruturaj Gaikwad</td>\n",
       "      <td>16</td>\n",
       "      <td>16</td>\n",
       "      <td>2</td>\n",
       "      <td>635</td>\n",
       "      <td>101*</td>\n",
       "      <td>45.35</td>\n",
       "      <td>466</td>\n",
       "      <td>136.26</td>\n",
       "      <td>1</td>\n",
       "      <td>4</td>\n",
       "      <td>64</td>\n",
       "      <td>23</td>\n",
       "    </tr>\n",
       "    <tr>\n",
       "      <th>1</th>\n",
       "      <td>2</td>\n",
       "      <td>Faf du Plessis</td>\n",
       "      <td>16</td>\n",
       "      <td>16</td>\n",
       "      <td>2</td>\n",
       "      <td>633</td>\n",
       "      <td>95*</td>\n",
       "      <td>45.21</td>\n",
       "      <td>458</td>\n",
       "      <td>138.20</td>\n",
       "      <td>0</td>\n",
       "      <td>6</td>\n",
       "      <td>60</td>\n",
       "      <td>23</td>\n",
       "    </tr>\n",
       "    <tr>\n",
       "      <th>2</th>\n",
       "      <td>3</td>\n",
       "      <td>KL Rahul</td>\n",
       "      <td>13</td>\n",
       "      <td>13</td>\n",
       "      <td>3</td>\n",
       "      <td>626</td>\n",
       "      <td>98*</td>\n",
       "      <td>62.60</td>\n",
       "      <td>451</td>\n",
       "      <td>138.80</td>\n",
       "      <td>0</td>\n",
       "      <td>6</td>\n",
       "      <td>48</td>\n",
       "      <td>30</td>\n",
       "    </tr>\n",
       "    <tr>\n",
       "      <th>3</th>\n",
       "      <td>4</td>\n",
       "      <td>Shikhar Dhawan</td>\n",
       "      <td>16</td>\n",
       "      <td>16</td>\n",
       "      <td>1</td>\n",
       "      <td>587</td>\n",
       "      <td>92</td>\n",
       "      <td>39.13</td>\n",
       "      <td>471</td>\n",
       "      <td>124.62</td>\n",
       "      <td>0</td>\n",
       "      <td>3</td>\n",
       "      <td>63</td>\n",
       "      <td>16</td>\n",
       "    </tr>\n",
       "    <tr>\n",
       "      <th>4</th>\n",
       "      <td>5</td>\n",
       "      <td>Glenn Maxwell</td>\n",
       "      <td>15</td>\n",
       "      <td>14</td>\n",
       "      <td>2</td>\n",
       "      <td>513</td>\n",
       "      <td>78</td>\n",
       "      <td>42.75</td>\n",
       "      <td>356</td>\n",
       "      <td>144.10</td>\n",
       "      <td>0</td>\n",
       "      <td>6</td>\n",
       "      <td>48</td>\n",
       "      <td>21</td>\n",
       "    </tr>\n",
       "  </tbody>\n",
       "</table>\n",
       "</div>"
      ],
      "text/plain": [
       "   POS           Player  Mat  Inns  NO  Runs    HS    Avg   BF      SR  100  \\\n",
       "0    1  Ruturaj Gaikwad   16    16   2   635  101*  45.35  466  136.26    1   \n",
       "1    2   Faf du Plessis   16    16   2   633   95*  45.21  458  138.20    0   \n",
       "2    3         KL Rahul   13    13   3   626   98*  62.60  451  138.80    0   \n",
       "3    4   Shikhar Dhawan   16    16   1   587    92  39.13  471  124.62    0   \n",
       "4    5    Glenn Maxwell   15    14   2   513    78  42.75  356  144.10    0   \n",
       "\n",
       "   50  4s  6s  \n",
       "0   4  64  23  \n",
       "1   6  60  23  \n",
       "2   6  48  30  \n",
       "3   3  63  16  \n",
       "4   6  48  21  "
      ]
     },
     "execution_count": 6,
     "metadata": {},
     "output_type": "execute_result"
    }
   ],
   "source": [
    "most_runs_2021.head()"
   ]
  },
  {
   "cell_type": "markdown",
   "id": "e01e64ef",
   "metadata": {},
   "source": [
    "### Top 5 players who remained Notout (minimum 8 innings)"
   ]
  },
  {
   "cell_type": "code",
   "execution_count": 7,
   "id": "e5393015",
   "metadata": {},
   "outputs": [],
   "source": [
    "most_runs21_min8inns = most_runs_2021.loc[most_runs_2021.Inns >= 8]"
   ]
  },
  {
   "cell_type": "code",
   "execution_count": 8,
   "id": "f812e939",
   "metadata": {},
   "outputs": [
    {
     "data": {
      "text/html": [
       "<div>\n",
       "<style scoped>\n",
       "    .dataframe tbody tr th:only-of-type {\n",
       "        vertical-align: middle;\n",
       "    }\n",
       "\n",
       "    .dataframe tbody tr th {\n",
       "        vertical-align: top;\n",
       "    }\n",
       "\n",
       "    .dataframe thead th {\n",
       "        text-align: right;\n",
       "    }\n",
       "</style>\n",
       "<table border=\"1\" class=\"dataframe\">\n",
       "  <thead>\n",
       "    <tr style=\"text-align: right;\">\n",
       "      <th></th>\n",
       "      <th></th>\n",
       "      <th>NO</th>\n",
       "    </tr>\n",
       "    <tr>\n",
       "      <th>Player</th>\n",
       "      <th>Inns</th>\n",
       "      <th></th>\n",
       "    </tr>\n",
       "  </thead>\n",
       "  <tbody>\n",
       "    <tr>\n",
       "      <th>Ravindra Jadeja</th>\n",
       "      <th>12</th>\n",
       "      <td>9</td>\n",
       "    </tr>\n",
       "    <tr>\n",
       "      <th>Shimron Hetmyer</th>\n",
       "      <th>13</th>\n",
       "      <td>6</td>\n",
       "    </tr>\n",
       "    <tr>\n",
       "      <th>Dinesh Karthik</th>\n",
       "      <th>15</th>\n",
       "      <td>5</td>\n",
       "    </tr>\n",
       "    <tr>\n",
       "      <th>Kieron Pollard</th>\n",
       "      <th>13</th>\n",
       "      <td>5</td>\n",
       "    </tr>\n",
       "    <tr>\n",
       "      <th>AB de Villiers</th>\n",
       "      <th>14</th>\n",
       "      <td>4</td>\n",
       "    </tr>\n",
       "  </tbody>\n",
       "</table>\n",
       "</div>"
      ],
      "text/plain": [
       "                      NO\n",
       "Player          Inns    \n",
       "Ravindra Jadeja 12     9\n",
       "Shimron Hetmyer 13     6\n",
       "Dinesh Karthik  15     5\n",
       "Kieron Pollard  13     5\n",
       "AB de Villiers  14     4"
      ]
     },
     "execution_count": 8,
     "metadata": {},
     "output_type": "execute_result"
    }
   ],
   "source": [
    "top5_notouts_min8 = pd.DataFrame(most_runs21_min8inns.groupby(['Player','Inns']).sum()['NO']).sort_values('NO',ascending=False).head(5)\n",
    "top5_notouts_min8"
   ]
  },
  {
   "cell_type": "markdown",
   "id": "adcd6207",
   "metadata": {},
   "source": [
    "### Players with Highest Average"
   ]
  },
  {
   "cell_type": "code",
   "execution_count": 8,
   "id": "84441903",
   "metadata": {
    "scrolled": true
   },
   "outputs": [
    {
     "data": {
      "text/plain": [
       "Player\n",
       "Ravindra Jadeja    75.66\n",
       "KL Rahul           62.60\n",
       "Manish Pandey      48.66\n",
       "Ruturaj Gaikwad    45.35\n",
       "Faf du Plessis     45.21\n",
       "Kane Williamson    44.33\n",
       "Glenn Maxwell      42.75\n",
       "Venkatesh Iyer     41.11\n",
       "Sanju Samson       40.33\n",
       "Mayank Agarwal     40.09\n",
       "Name: Avg, dtype: float64"
      ]
     },
     "execution_count": 8,
     "metadata": {},
     "output_type": "execute_result"
    }
   ],
   "source": [
    "most_runs21_min8inns.groupby('Player').mean()['Avg'].sort_values(ascending=False).head(10)"
   ]
  },
  {
   "cell_type": "markdown",
   "id": "3289b995",
   "metadata": {},
   "source": [
    "### Players with highest strike rates (minimum 300 balls faced)"
   ]
  },
  {
   "cell_type": "code",
   "execution_count": 9,
   "id": "4cc76dcc",
   "metadata": {},
   "outputs": [],
   "source": [
    "# sns.displot(most_runs21_min8inns.BF)\n",
    "# plt.show()"
   ]
  },
  {
   "cell_type": "code",
   "execution_count": 10,
   "id": "361939a0",
   "metadata": {},
   "outputs": [
    {
     "data": {
      "text/plain": [
       "13"
      ]
     },
     "execution_count": 10,
     "metadata": {},
     "output_type": "execute_result"
    }
   ],
   "source": [
    "min100_balls = most_runs_2021.loc[most_runs_2021.BF >= 300]\n",
    "# min100_balls.head()\n",
    "len(min100_balls)"
   ]
  },
  {
   "cell_type": "code",
   "execution_count": 11,
   "id": "bbf70530",
   "metadata": {},
   "outputs": [
    {
     "data": {
      "text/plain": [
       "Player            Inns  BF   Runs\n",
       "Prithvi Shaw      15    301  479     159.13\n",
       "Glenn Maxwell     14    356  513     144.10\n",
       "Mayank Agarwal    12    314  441     140.44\n",
       "KL Rahul          13    451  626     138.80\n",
       "Faf du Plessis    16    458  633     138.20\n",
       "Sanju Samson      14    354  484     136.72\n",
       "Ruturaj Gaikwad   16    466  635     136.26\n",
       "Rishabh Pant      16    326  419     128.52\n",
       "Devdutt Padikkal  14    328  411     125.30\n",
       "Shikhar Dhawan    16    471  587     124.62\n",
       "Nitish Rana       16    314  383     121.97\n",
       "Virat Kohli       15    339  405     119.46\n",
       "Shubman Gill      17    402  478     118.90\n",
       "Name: SR, dtype: float64"
      ]
     },
     "execution_count": 11,
     "metadata": {},
     "output_type": "execute_result"
    }
   ],
   "source": [
    "min100_balls.groupby(['Player','Inns','BF','Runs']).mean()['SR'].sort_values(ascending=False)"
   ]
  },
  {
   "cell_type": "markdown",
   "id": "d933b997",
   "metadata": {},
   "source": [
    "### Players with most centuries"
   ]
  },
  {
   "cell_type": "code",
   "execution_count": 12,
   "id": "4010f8e3",
   "metadata": {},
   "outputs": [
    {
     "data": {
      "text/html": [
       "<div>\n",
       "<style scoped>\n",
       "    .dataframe tbody tr th:only-of-type {\n",
       "        vertical-align: middle;\n",
       "    }\n",
       "\n",
       "    .dataframe tbody tr th {\n",
       "        vertical-align: top;\n",
       "    }\n",
       "\n",
       "    .dataframe thead th {\n",
       "        text-align: right;\n",
       "    }\n",
       "</style>\n",
       "<table border=\"1\" class=\"dataframe\">\n",
       "  <thead>\n",
       "    <tr style=\"text-align: right;\">\n",
       "      <th></th>\n",
       "      <th>POS</th>\n",
       "      <th>Player</th>\n",
       "      <th>Mat</th>\n",
       "      <th>Inns</th>\n",
       "      <th>NO</th>\n",
       "      <th>Runs</th>\n",
       "      <th>HS</th>\n",
       "      <th>Avg</th>\n",
       "      <th>BF</th>\n",
       "      <th>SR</th>\n",
       "      <th>100</th>\n",
       "      <th>50</th>\n",
       "      <th>4s</th>\n",
       "      <th>6s</th>\n",
       "    </tr>\n",
       "  </thead>\n",
       "  <tbody>\n",
       "    <tr>\n",
       "      <th>0</th>\n",
       "      <td>1</td>\n",
       "      <td>Ruturaj Gaikwad</td>\n",
       "      <td>16</td>\n",
       "      <td>16</td>\n",
       "      <td>2</td>\n",
       "      <td>635</td>\n",
       "      <td>101*</td>\n",
       "      <td>45.35</td>\n",
       "      <td>466</td>\n",
       "      <td>136.26</td>\n",
       "      <td>1</td>\n",
       "      <td>4</td>\n",
       "      <td>64</td>\n",
       "      <td>23</td>\n",
       "    </tr>\n",
       "    <tr>\n",
       "      <th>5</th>\n",
       "      <td>6</td>\n",
       "      <td>Sanju Samson</td>\n",
       "      <td>14</td>\n",
       "      <td>14</td>\n",
       "      <td>2</td>\n",
       "      <td>484</td>\n",
       "      <td>119</td>\n",
       "      <td>40.33</td>\n",
       "      <td>354</td>\n",
       "      <td>136.72</td>\n",
       "      <td>1</td>\n",
       "      <td>2</td>\n",
       "      <td>45</td>\n",
       "      <td>17</td>\n",
       "    </tr>\n",
       "    <tr>\n",
       "      <th>10</th>\n",
       "      <td>11</td>\n",
       "      <td>Devdutt Padikkal</td>\n",
       "      <td>14</td>\n",
       "      <td>14</td>\n",
       "      <td>1</td>\n",
       "      <td>411</td>\n",
       "      <td>101*</td>\n",
       "      <td>31.61</td>\n",
       "      <td>328</td>\n",
       "      <td>125.30</td>\n",
       "      <td>1</td>\n",
       "      <td>1</td>\n",
       "      <td>44</td>\n",
       "      <td>14</td>\n",
       "    </tr>\n",
       "    <tr>\n",
       "      <th>23</th>\n",
       "      <td>24</td>\n",
       "      <td>Jos Buttler</td>\n",
       "      <td>7</td>\n",
       "      <td>7</td>\n",
       "      <td>0</td>\n",
       "      <td>254</td>\n",
       "      <td>124</td>\n",
       "      <td>36.28</td>\n",
       "      <td>166</td>\n",
       "      <td>153.01</td>\n",
       "      <td>1</td>\n",
       "      <td>0</td>\n",
       "      <td>27</td>\n",
       "      <td>13</td>\n",
       "    </tr>\n",
       "  </tbody>\n",
       "</table>\n",
       "</div>"
      ],
      "text/plain": [
       "    POS            Player  Mat  Inns  NO  Runs    HS    Avg   BF      SR  100  \\\n",
       "0     1   Ruturaj Gaikwad   16    16   2   635  101*  45.35  466  136.26    1   \n",
       "5     6      Sanju Samson   14    14   2   484   119  40.33  354  136.72    1   \n",
       "10   11  Devdutt Padikkal   14    14   1   411  101*  31.61  328  125.30    1   \n",
       "23   24       Jos Buttler    7     7   0   254   124  36.28  166  153.01    1   \n",
       "\n",
       "    50  4s  6s  \n",
       "0    4  64  23  \n",
       "5    2  45  17  \n",
       "10   1  44  14  \n",
       "23   0  27  13  "
      ]
     },
     "execution_count": 12,
     "metadata": {},
     "output_type": "execute_result"
    }
   ],
   "source": [
    "most_runs_2021.loc[most_runs_2021['100'] >0]"
   ]
  },
  {
   "cell_type": "code",
   "execution_count": null,
   "id": "9ba2957b",
   "metadata": {},
   "outputs": [],
   "source": []
  },
  {
   "cell_type": "code",
   "execution_count": null,
   "id": "05715110",
   "metadata": {},
   "outputs": [],
   "source": []
  }
 ],
 "metadata": {
  "kernelspec": {
   "display_name": "Python 3 (ipykernel)",
   "language": "python",
   "name": "python3"
  },
  "language_info": {
   "codemirror_mode": {
    "name": "ipython",
    "version": 3
   },
   "file_extension": ".py",
   "mimetype": "text/x-python",
   "name": "python",
   "nbconvert_exporter": "python",
   "pygments_lexer": "ipython3",
   "version": "3.8.12"
  }
 },
 "nbformat": 4,
 "nbformat_minor": 5
}
